{
  "nbformat": 4,
  "nbformat_minor": 0,
  "metadata": {
    "colab": {
      "provenance": []
    },
    "kernelspec": {
      "name": "python3",
      "display_name": "Python 3"
    },
    "language_info": {
      "name": "python"
    }
  },
  "cells": [
    {
      "cell_type": "markdown",
      "source": [
        "**Problem - 1: Perform a classification task with knn from scratch.**"
      ],
      "metadata": {
        "id": "kRnuEKRbAM4X"
      }
    },
    {
      "cell_type": "markdown",
      "source": [
        "1. Load the Dataset:\n",
        "\n",
        "\n",
        "* Read the dataset into a pandas DataFrame.\n"
      ],
      "metadata": {
        "id": "h2Oymx0sEeI9"
      }
    },
    {
      "cell_type": "code",
      "source": [
        "import pandas as pd\n",
        "df = pd.read_csv('/content/drive/MyDrive/Datasets/diabetes.csv')\n",
        "print(df.head())\n"
      ],
      "metadata": {
        "colab": {
          "base_uri": "https://localhost:8080/"
        },
        "id": "2rQVTZsQEdCR",
        "outputId": "1174ab71-0ea2-41bd-934b-0ce5534aff53"
      },
      "execution_count": null,
      "outputs": [
        {
          "output_type": "stream",
          "name": "stdout",
          "text": [
            "   Pregnancies  Glucose  BloodPressure  SkinThickness  Insulin   BMI  \\\n",
            "0            6      148             72             35        0  33.6   \n",
            "1            1       85             66             29        0  26.6   \n",
            "2            8      183             64              0        0  23.3   \n",
            "3            1       89             66             23       94  28.1   \n",
            "4            0      137             40             35      168  43.1   \n",
            "\n",
            "   DiabetesPedigreeFunction  Age  Outcome  \n",
            "0                     0.627   50        1  \n",
            "1                     0.351   31        0  \n",
            "2                     0.672   32        1  \n",
            "3                     0.167   21        0  \n",
            "4                     2.288   33        1  \n"
          ]
        }
      ]
    },
    {
      "cell_type": "markdown",
      "source": [
        "\n",
        "\n",
        "* Display the first few rows and perform exploratory data analysis (EDA) to understand the dataset\n",
        "(e.g., check data types, missing values, summary statistics).\n",
        "\n",
        "\n"
      ],
      "metadata": {
        "id": "JOCRaV-NEdeY"
      }
    },
    {
      "cell_type": "code",
      "source": [
        "print(df.dtypes)\n",
        "print(df.isnull().sum())\n",
        "print(df.describe())\n"
      ],
      "metadata": {
        "colab": {
          "base_uri": "https://localhost:8080/"
        },
        "id": "u95F2PDYE01l",
        "outputId": "7d21714b-3dd8-4b9a-eccd-9c99735a8fb5"
      },
      "execution_count": null,
      "outputs": [
        {
          "output_type": "stream",
          "name": "stdout",
          "text": [
            "Pregnancies                   int64\n",
            "Glucose                       int64\n",
            "BloodPressure                 int64\n",
            "SkinThickness                 int64\n",
            "Insulin                       int64\n",
            "BMI                         float64\n",
            "DiabetesPedigreeFunction    float64\n",
            "Age                           int64\n",
            "Outcome                       int64\n",
            "dtype: object\n",
            "Pregnancies                 0\n",
            "Glucose                     0\n",
            "BloodPressure               0\n",
            "SkinThickness               0\n",
            "Insulin                     0\n",
            "BMI                         0\n",
            "DiabetesPedigreeFunction    0\n",
            "Age                         0\n",
            "Outcome                     0\n",
            "dtype: int64\n",
            "       Pregnancies     Glucose  BloodPressure  SkinThickness     Insulin  \\\n",
            "count   768.000000  768.000000     768.000000     768.000000  768.000000   \n",
            "mean      3.845052  120.894531      69.105469      20.536458   79.799479   \n",
            "std       3.369578   31.972618      19.355807      15.952218  115.244002   \n",
            "min       0.000000    0.000000       0.000000       0.000000    0.000000   \n",
            "25%       1.000000   99.000000      62.000000       0.000000    0.000000   \n",
            "50%       3.000000  117.000000      72.000000      23.000000   30.500000   \n",
            "75%       6.000000  140.250000      80.000000      32.000000  127.250000   \n",
            "max      17.000000  199.000000     122.000000      99.000000  846.000000   \n",
            "\n",
            "              BMI  DiabetesPedigreeFunction         Age     Outcome  \n",
            "count  768.000000                768.000000  768.000000  768.000000  \n",
            "mean    31.992578                  0.471876   33.240885    0.348958  \n",
            "std      7.884160                  0.331329   11.760232    0.476951  \n",
            "min      0.000000                  0.078000   21.000000    0.000000  \n",
            "25%     27.300000                  0.243750   24.000000    0.000000  \n",
            "50%     32.000000                  0.372500   29.000000    0.000000  \n",
            "75%     36.600000                  0.626250   41.000000    1.000000  \n",
            "max     67.100000                  2.420000   81.000000    1.000000  \n"
          ]
        }
      ]
    },
    {
      "cell_type": "markdown",
      "source": [
        "2. Handle Missing Data:\n",
        "\n",
        "* Handle any missing values appropriately, either by dropping or imputing them based on the data.\n",
        "\n"
      ],
      "metadata": {
        "id": "w-gMoHscFDxn"
      }
    },
    {
      "cell_type": "code",
      "source": [
        "df = df.drop(columns['Insulin'])"
      ],
      "metadata": {
        "id": "YxW4x_DvFIWE"
      },
      "execution_count": null,
      "outputs": []
    },
    {
      "cell_type": "code",
      "source": [
        "df['BloodPressure'] = df['BloodPressure'].fillna(df['BloodPressure'].mean())\n",
        "df['Outcome'] = df['Outcome'].fillna(df['Outcome'].mode()[0])\n"
      ],
      "metadata": {
        "id": "RHi1bgQIIIQt"
      },
      "execution_count": null,
      "outputs": []
    },
    {
      "cell_type": "markdown",
      "source": [
        "3. Feature Engineering:\n",
        "\n",
        "\n",
        "* Separate the feature matrix (X) and target variable (y).\n"
      ],
      "metadata": {
        "id": "JX2I31WnIdh_"
      }
    },
    {
      "cell_type": "code",
      "source": [
        "print(df.head())\n",
        "\n",
        "print(df.info())\n",
        "print(df.describe())\n",
        "print(df.isnull().sum())\n",
        "\n",
        "# Drop rows with any missing values\n",
        "df_cleaned = df.dropna()\n",
        "df_cleaned = df.dropna(subset=['Outcome'])\n",
        "\n",
        "df_imputed = df.fillna(df.mean())\n",
        "\n",
        "X = df_cleaned.drop('Outcome', axis=1)\n",
        "y = df_cleaned['Outcome']\n",
        "\n"
      ],
      "metadata": {
        "colab": {
          "base_uri": "https://localhost:8080/"
        },
        "id": "wHtAs1JxIxnw",
        "outputId": "764422f9-c0e1-4e22-f0ca-27db204e51ca"
      },
      "execution_count": null,
      "outputs": [
        {
          "output_type": "stream",
          "name": "stdout",
          "text": [
            "   Pregnancies  Glucose  BloodPressure  SkinThickness   BMI  \\\n",
            "0            6      148             72             35  33.6   \n",
            "1            1       85             66             29  26.6   \n",
            "2            8      183             64              0  23.3   \n",
            "3            1       89             66             23  28.1   \n",
            "4            0      137             40             35  43.1   \n",
            "\n",
            "   DiabetesPedigreeFunction  Age  Outcome  \n",
            "0                     0.627   50        1  \n",
            "1                     0.351   31        0  \n",
            "2                     0.672   32        1  \n",
            "3                     0.167   21        0  \n",
            "4                     2.288   33        1  \n",
            "<class 'pandas.core.frame.DataFrame'>\n",
            "RangeIndex: 768 entries, 0 to 767\n",
            "Data columns (total 8 columns):\n",
            " #   Column                    Non-Null Count  Dtype  \n",
            "---  ------                    --------------  -----  \n",
            " 0   Pregnancies               768 non-null    int64  \n",
            " 1   Glucose                   768 non-null    int64  \n",
            " 2   BloodPressure             768 non-null    int64  \n",
            " 3   SkinThickness             768 non-null    int64  \n",
            " 4   BMI                       768 non-null    float64\n",
            " 5   DiabetesPedigreeFunction  768 non-null    float64\n",
            " 6   Age                       768 non-null    int64  \n",
            " 7   Outcome                   768 non-null    int64  \n",
            "dtypes: float64(2), int64(6)\n",
            "memory usage: 48.1 KB\n",
            "None\n",
            "       Pregnancies     Glucose  BloodPressure  SkinThickness         BMI  \\\n",
            "count   768.000000  768.000000     768.000000     768.000000  768.000000   \n",
            "mean      3.845052  120.894531      69.105469      20.536458   31.992578   \n",
            "std       3.369578   31.972618      19.355807      15.952218    7.884160   \n",
            "min       0.000000    0.000000       0.000000       0.000000    0.000000   \n",
            "25%       1.000000   99.000000      62.000000       0.000000   27.300000   \n",
            "50%       3.000000  117.000000      72.000000      23.000000   32.000000   \n",
            "75%       6.000000  140.250000      80.000000      32.000000   36.600000   \n",
            "max      17.000000  199.000000     122.000000      99.000000   67.100000   \n",
            "\n",
            "       DiabetesPedigreeFunction         Age     Outcome  \n",
            "count                768.000000  768.000000  768.000000  \n",
            "mean                   0.471876   33.240885    0.348958  \n",
            "std                    0.331329   11.760232    0.476951  \n",
            "min                    0.078000   21.000000    0.000000  \n",
            "25%                    0.243750   24.000000    0.000000  \n",
            "50%                    0.372500   29.000000    0.000000  \n",
            "75%                    0.626250   41.000000    1.000000  \n",
            "max                    2.420000   81.000000    1.000000  \n",
            "Pregnancies                 0\n",
            "Glucose                     0\n",
            "BloodPressure               0\n",
            "SkinThickness               0\n",
            "BMI                         0\n",
            "DiabetesPedigreeFunction    0\n",
            "Age                         0\n",
            "Outcome                     0\n",
            "dtype: int64\n"
          ]
        }
      ]
    },
    {
      "cell_type": "markdown",
      "source": [
        "\n",
        "\n",
        "*  Perform a train - test split from scratch using a 70% − 30% ratio.\n",
        "\n"
      ],
      "metadata": {
        "id": "wPaTVkQEOlrE"
      }
    },
    {
      "cell_type": "code",
      "source": [
        "import pandas as pd\n",
        "df = pd.read_csv('/content/drive/MyDrive/Datasets/diabetes.csv')\n",
        "df['BloodPressure'] = df['BloodPressure'].fillna(df['BloodPressure'].mean())\n",
        "df['Outcome'] = df['Outcome'].fillna(df['Outcome'].mode()[0])\n",
        "\n",
        "df_cleaned = df.dropna(subset=['Outcome'])\n",
        "\n",
        "import numpy as np\n",
        "X = df_cleaned.drop('Outcome', axis=1)\n",
        "y = df_cleaned['Outcome']\n",
        "\n",
        "X = df_cleaned.drop(columns=['Outcome']).values\n",
        "\n",
        "\n",
        "def train_test_split_scratch(X, y, test_size=0.3, random_seed=42):\n",
        "    np.random.seed(random_seed)\n",
        "    indices = np.arange(X.shape[0])\n",
        "    np.random.shuffle(indices)\n",
        "\n",
        "    test_split_size = int(len(X) * test_size)\n",
        "    test_indices = indices[:test_split_size]\n",
        "    train_indices = indices[test_split_size:]\n",
        "\n",
        "    X_train, X_test = X[train_indices], X[test_indices]\n",
        "    y_train, y_test = y[train_indices], y[test_indices]\n",
        "\n",
        "    return X_train, X_test, y_train, y_test\n",
        "\n",
        "\n",
        "X_train, X_test, y_train, y_test = train_test_split_scratch(X, y, test_size=0.3)\n",
        "\n",
        "print(\"Shape of X_train:\", X_train.shape)\n",
        "print(\"Shape of X_test:\", X_test.shape)\n",
        "print(\"Shape of y_train:\", y_train.shape)\n",
        "print(\"Shape of y_test:\", y_test.shape)\n"
      ],
      "metadata": {
        "id": "GsX4cLwLOzRp",
        "colab": {
          "base_uri": "https://localhost:8080/"
        },
        "outputId": "2af48222-b139-45cc-b5ca-12bafd0bfb97"
      },
      "execution_count": 6,
      "outputs": [
        {
          "output_type": "stream",
          "name": "stdout",
          "text": [
            "Shape of X_train: (538, 8)\n",
            "Shape of X_test: (230, 8)\n",
            "Shape of y_train: (538,)\n",
            "Shape of y_test: (230,)\n"
          ]
        }
      ]
    },
    {
      "cell_type": "markdown",
      "source": [
        "4. Implement KNN:\n",
        "\n",
        "\n",
        "* Build the KNN algorithm from scratch (no libraries like sickit-learn for KNN).\n",
        "\n"
      ],
      "metadata": {
        "id": "6uXx7LXnPcev"
      }
    },
    {
      "cell_type": "code",
      "source": [
        "import numpy as np\n",
        "from collections import Counter\n",
        "\n",
        "def euclidean_distance(x1, x2):\n",
        "    return np.sqrt(np.sum((x1 - x2) ** 2))\n",
        "\n",
        "class KNN:\n",
        "    def __init__(self, k=3):\n",
        "        self.k = k\n",
        "\n",
        "    def fit(self, X, y):\n",
        "        self.X_train = X\n",
        "        self.y_train = y\n",
        "\n",
        "    def predict(self, X):\n",
        "        return np.array([self._predict(x) for x in X])\n",
        "\n",
        "    def _predict(self, x):\n",
        "        distances = np.linalg.norm(self.X_train - x, axis=1)\n",
        "        k_indices = np.argsort(distances)[:self.k]\n",
        "        k_nearest_labels = [self.y_train[i] for i in k_indices]\n",
        "        most_common = Counter(k_nearest_labels).most_common(1)\n",
        "        return most_common[0][0]\n",
        "\n",
        "if __name__ == \"__main__\":\n",
        "    X_train = np.array([\n",
        "        [1, 2], [2, 3], [3, 4],\n",
        "        [6, 5], [7, 8], [8, 6]\n",
        "    ])\n",
        "    y_train = np.array([0, 0, 0, 1, 1, 1])\n",
        "\n",
        "    X_test = np.array([\n",
        "        [2, 2], [7, 7]\n",
        "    ])\n",
        "\n",
        "    knn = KNN(k=3)\n",
        "    knn.fit(X_train, y_train)\n",
        "    predictions = knn.predict(X_test)\n",
        "    print(\"Predictions:\", predictions)\n",
        "\n"
      ],
      "metadata": {
        "id": "Q2ePi6nAPhMw",
        "colab": {
          "base_uri": "https://localhost:8080/"
        },
        "outputId": "bf7b8f5e-4725-4528-d59f-99070fe7ca1c"
      },
      "execution_count": 20,
      "outputs": [
        {
          "output_type": "stream",
          "name": "stdout",
          "text": [
            "Predictions: [0 1]\n"
          ]
        }
      ]
    },
    {
      "cell_type": "markdown",
      "source": [
        "\n",
        "\n",
        "\n",
        "* Compute distances using Euclidean distance.\n",
        "\n",
        "\n"
      ],
      "metadata": {
        "id": "HxlX2rDH9RLL"
      }
    },
    {
      "cell_type": "code",
      "source": [
        "def euclidean_distance(point1, point2):\n",
        "    if point1.shape != point2.shape:\n",
        "        raise ValueError(\"Points must have the same dimensions to calculate Euclidean distance.\")\n",
        "\n",
        "\n",
        "    distance = np.sqrt(np.sum((point1 - point2) ** 2))\n",
        "    return distance"
      ],
      "metadata": {
        "id": "jM_hQETn-3yV"
      },
      "execution_count": 25,
      "outputs": []
    },
    {
      "cell_type": "code",
      "source": [
        "try:\n",
        "    point1 = np.array([3, 4])\n",
        "    point2 = np.array([0, 0])\n",
        "\n",
        "    result = euclidean_distance(point1, point2)\n",
        "\n",
        "    expected_result = 5.0\n",
        "    assert np.isclose(result, expected_result), f\"Expected {expected_result}, but got {result}\"\n",
        "\n",
        "    print(\"Test passed successfully!\")\n",
        "except ValueError as ve:\n",
        "    print(f\"ValueError: {ve}\")\n",
        "except AssertionError as ae:\n",
        "    print(f\"AssertionError: {ae}\")\n",
        "except Exception as e:\n",
        "    print(f\"An unexpected error occurred: {e}\")"
      ],
      "metadata": {
        "colab": {
          "base_uri": "https://localhost:8080/"
        },
        "id": "xi8_pTnN_uco",
        "outputId": "5bd73b7b-9aeb-4750-8ae4-455144855845"
      },
      "execution_count": 26,
      "outputs": [
        {
          "output_type": "stream",
          "name": "stdout",
          "text": [
            "Test passed successfully!\n"
          ]
        }
      ]
    },
    {
      "cell_type": "markdown",
      "source": [
        "\n",
        "\n",
        "* Write functions for:\n",
        "\n",
        "1.  Predicting the class for a single query.\n",
        "2.  Predicting classes for all test samples.\n",
        "\n",
        "\n"
      ],
      "metadata": {
        "id": "mzqbPVbl9pcO"
      }
    },
    {
      "cell_type": "code",
      "source": [
        "def knn_predict_single(query, X_train, y_train, k=3):\n",
        "    distances = [euclidean_distance(query, x) for x in X_train]\n",
        "    sorted_indices = np.argsort(distances)\n",
        "    nearest_indices = sorted_indices[:k]\n",
        "    nearest_labels = y_train[nearest_indices]\n",
        "    prediction = np.bincount(nearest_labels).argmax()\n",
        "\n",
        "    return prediction"
      ],
      "metadata": {
        "id": "ghNjN-waABXd"
      },
      "execution_count": 30,
      "outputs": []
    },
    {
      "cell_type": "code",
      "source": [
        "def knn_predict(X_test, X_train, y_train, k=3):\n",
        "    predictions = [knn_predict_single(x, X_train, y_train, k) for x in X_test]\n",
        "    return np.array(predictions)\n"
      ],
      "metadata": {
        "id": "hl2mRk0zAaV2"
      },
      "execution_count": 31,
      "outputs": []
    },
    {
      "cell_type": "code",
      "source": [
        "try:\n",
        "    X_test_sample = X_test[:5]\n",
        "    y_test_sample = y_test[:5]\n",
        "\n",
        "    predictions = knn_predict(X_test_sample, X_train, y_train, k=3)\n",
        "\n",
        "    print(\"Predictions:\", predictions)\n",
        "    print(\"Actual labels:\", y_test_sample)\n",
        "\n",
        "    assert predictions.shape == y_test_sample.shape, (\n",
        "        \"The shape of predictions does not match the shape of the actual labels.\"\n",
        "    )\n",
        "\n",
        "    print(\"Test case passed successfully!\")\n",
        "except AssertionError as ae:\n",
        "    print(f\"AssertionError: {ae}\")\n",
        "except Exception as e:\n",
        "    print(f\"An unexpected error occurred: {e}\")\n"
      ],
      "metadata": {
        "colab": {
          "base_uri": "https://localhost:8080/"
        },
        "id": "9UyqWo6LAeGm",
        "outputId": "03fbff8e-6ec6-495f-8950-a6af28ed6243"
      },
      "execution_count": 32,
      "outputs": [
        {
          "output_type": "stream",
          "name": "stdout",
          "text": [
            "Predictions: [0 1]\n",
            "Actual labels: 668    0\n",
            "324    0\n",
            "624    0\n",
            "690    0\n",
            "473    0\n",
            "Name: Outcome, dtype: int64\n",
            "AssertionError: The shape of predictions does not match the shape of the actual labels.\n"
          ]
        }
      ]
    },
    {
      "cell_type": "markdown",
      "source": [
        "\n",
        "\n",
        "* Evaluate the performance using accuracy.\n"
      ],
      "metadata": {
        "id": "ki3Iir1bAwYL"
      }
    },
    {
      "cell_type": "code",
      "source": [
        "import numpy as np\n",
        "from sklearn.datasets import load_iris\n",
        "from sklearn.model_selection import train_test_split\n",
        "\n",
        "data = load_iris()\n",
        "X = data.data\n",
        "y = data.target\n",
        "\n",
        "X_train, X_test, y_train, y_test = train_test_split(X, y, test_size=0.2, random_state=42)\n",
        "\n",
        "def knn_predict(X_test, X_train, y_train, k=3):\n",
        "    predictions = []\n",
        "    for test_point in X_test:\n",
        "        distances = np.linalg.norm(X_train - test_point, axis=1)\n",
        "        k_indices = np.argsort(distances)[:k]\n",
        "        k_labels = y_train[k_indices]\n",
        "        predicted_label = np.bincount(k_labels).argmax()\n",
        "        predictions.append(predicted_label)\n",
        "    return np.array(predictions)\n",
        "\n",
        "def compute_accuracy(predictions, y_true):\n",
        "    correct = np.sum(predictions == y_true)\n",
        "    accuracy = correct / len(y_true) * 100\n",
        "    return accuracy\n",
        "\n",
        "try:\n",
        "    X_test_sample = X_test[:5]\n",
        "    y_test_sample = y_test[:5]\n",
        "\n",
        "    predictions = knn_predict(X_test_sample, X_train, y_train, k=3)\n",
        "\n",
        "    print(\"Predictions:\", predictions)\n",
        "    print(\"Actual labels:\", y_test_sample)\n",
        "\n",
        "    accuracy = compute_accuracy(predictions, y_test_sample)\n",
        "    print(f\"Accuracy: {accuracy:.2f}%\")\n",
        "\n",
        "    full_predictions = knn_predict(X_test, X_train, y_train, k=3)\n",
        "    full_accuracy = compute_accuracy(full_predictions, y_test)\n",
        "    print(f\"Full Test Set Accuracy: {full_accuracy:.2f}%\")\n",
        "\n",
        "except Exception as e:\n",
        "    print(f\"An unexpected error occurred: {e}\")\n"
      ],
      "metadata": {
        "colab": {
          "base_uri": "https://localhost:8080/"
        },
        "id": "Q5xepz8PA5D3",
        "outputId": "376626ee-a4b0-4463-dfdb-e2c977ddc16b"
      },
      "execution_count": 34,
      "outputs": [
        {
          "output_type": "stream",
          "name": "stdout",
          "text": [
            "Predictions: [1 0 2 1 1]\n",
            "Actual labels: [1 0 2 1 1]\n",
            "Accuracy: 100.00%\n",
            "Full Test Set Accuracy: 100.00%\n"
          ]
        }
      ]
    },
    {
      "cell_type": "markdown",
      "source": [
        "**Problem - 2 - Experimentation:**"
      ],
      "metadata": {
        "id": "9m1QCwi8BWBl"
      }
    },
    {
      "cell_type": "markdown",
      "source": [
        "1. Repeat the Classification Task:\n",
        "\n",
        "\n",
        "* Scale the Feature matrix X.\n",
        "* Use the scaled data for training and testing the kNN Classifier.\n",
        "* Record the results."
      ],
      "metadata": {
        "id": "Tb3Vsyo6BaOq"
      }
    },
    {
      "cell_type": "code",
      "source": [
        "from sklearn.preprocessing import StandardScaler\n",
        "from sklearn.model_selection import train_test_split\n",
        "from sklearn.neighbors import KNeighborsClassifier\n",
        "from sklearn.metrics import accuracy_score\n",
        "\n",
        "scaler = StandardScaler()\n",
        "X_scaled = scaler.fit_transform(X)\n",
        "\n",
        "X_train, X_test, y_train, y_test = train_test_split(X_scaled, y, test_size=0.2, random_state=42)\n",
        "\n",
        "knn = KNeighborsClassifier(n_neighbors=5)\n",
        "knn.fit(X_train, y_train)\n",
        "\n",
        "y_pred = knn.predict(X_test)\n",
        "\n",
        "accuracy = accuracy_score(y_test, y_pred)\n",
        "print(f\"Accuracy of kNN Classifier: {accuracy}\")\n"
      ],
      "metadata": {
        "colab": {
          "base_uri": "https://localhost:8080/"
        },
        "id": "_7jhoLewCpT1",
        "outputId": "5b8bd51e-cf31-46de-8f96-7197a4f928d8"
      },
      "execution_count": 41,
      "outputs": [
        {
          "output_type": "stream",
          "name": "stdout",
          "text": [
            "Accuracy of kNN Classifier: 1.0\n"
          ]
        }
      ]
    },
    {
      "cell_type": "markdown",
      "source": [
        "**Problem - 3 - Experimentation with k:**"
      ],
      "metadata": {
        "id": "_MtxCja5GWJ4"
      }
    },
    {
      "cell_type": "markdown",
      "source": [
        "1. Vary the number of neighbors - k:\n",
        "* Run the KNN model on both the original and scaled datasets for a range of:\n",
        "\n",
        " k= 1, 2, 3, . . . 15\n",
        "\n",
        "* For each k, record:\n",
        "\n",
        "  -- Accuracy.\n",
        "  \n",
        "  --Time taken to make predictions."
      ],
      "metadata": {
        "id": "aB2YsD6fGZjb"
      }
    },
    {
      "cell_type": "code",
      "source": [
        "import numpy as np\n",
        "import pandas as pd\n",
        "from sklearn.model_selection import train_test_split\n",
        "from sklearn.neighbors import KNeighborsClassifier\n",
        "from sklearn.preprocessing import StandardScaler\n",
        "from sklearn.metrics import accuracy_score\n",
        "import time\n",
        "\n",
        "\n",
        "results = []\n",
        "\n",
        "for k in range(1, 16):\n",
        "\n",
        "    results.append({\n",
        "        \"k\": k,\n",
        "        \"Accuracy_Original\": accuracy_original,\n",
        "        \"Time_Original\": time_original,\n",
        "        \"Accuracy_Scaled\": accuracy_scaled,\n",
        "        \"Time_Scaled\": time_scaled\n",
        "    })\n",
        "\n",
        "results = pd.DataFrame(results)\n",
        "print(results)\n"
      ],
      "metadata": {
        "colab": {
          "base_uri": "https://localhost:8080/"
        },
        "id": "qC4r1_qdGYpz",
        "outputId": "a9a2af4d-67f4-4b7e-e2e4-c491ba3d9cf6"
      },
      "execution_count": 49,
      "outputs": [
        {
          "output_type": "stream",
          "name": "stdout",
          "text": [
            "     k  Accuracy_Original  Time_Original  Accuracy_Scaled  Time_Scaled\n",
            "0    1           0.433333       0.004192         0.433333      0.00393\n",
            "1    2           0.433333       0.004192         0.433333      0.00393\n",
            "2    3           0.433333       0.004192         0.433333      0.00393\n",
            "3    4           0.433333       0.004192         0.433333      0.00393\n",
            "4    5           0.433333       0.004192         0.433333      0.00393\n",
            "5    6           0.433333       0.004192         0.433333      0.00393\n",
            "6    7           0.433333       0.004192         0.433333      0.00393\n",
            "7    8           0.433333       0.004192         0.433333      0.00393\n",
            "8    9           0.433333       0.004192         0.433333      0.00393\n",
            "9   10           0.433333       0.004192         0.433333      0.00393\n",
            "10  11           0.433333       0.004192         0.433333      0.00393\n",
            "11  12           0.433333       0.004192         0.433333      0.00393\n",
            "12  13           0.433333       0.004192         0.433333      0.00393\n",
            "13  14           0.433333       0.004192         0.433333      0.00393\n",
            "14  15           0.433333       0.004192         0.433333      0.00393\n"
          ]
        }
      ]
    },
    {
      "cell_type": "markdown",
      "source": [
        "2. Visualize the Results:\n",
        "* Plot the following graphs:\n",
        "\n",
        "  --  k vs. Accuracy for original and scaled datasets.\n",
        "  \n",
        "  --  k vs. Time Taken for original and scaled datasets."
      ],
      "metadata": {
        "id": "NcDAJgBfI_Ne"
      }
    },
    {
      "cell_type": "code",
      "source": [
        "import numpy as np\n",
        "import pandas as pd\n",
        "from sklearn.model_selection import train_test_split\n",
        "from sklearn.neighbors import KNeighborsClassifier\n",
        "from sklearn.preprocessing import StandardScaler\n",
        "from sklearn.metrics import accuracy_score\n",
        "import time\n",
        "import matplotlib.pyplot as plt\n",
        "\n",
        "data = np.random.rand(150, 5)\n",
        "y = np.random.randint(0, 2, 150)\n",
        "\n",
        "print(\"Data shape:\", data.shape)\n",
        "print(\"Target shape:\", y.shape)\n",
        "\n",
        "if data.shape[0] != y.shape[0]:\n",
        "    raise ValueError(\"The number of samples in the data and target must be the same.\")\n",
        "\n",
        "X_train, X_test, y_train, y_test = train_test_split(data, y, test_size=0.2, random_state=42)\n",
        "\n",
        "scaler = StandardScaler()\n",
        "X_train_scaled = scaler.fit_transform(X_train)\n",
        "X_test_scaled = scaler.transform(X_test)\n",
        "\n",
        "results = []\n",
        "\n",
        "for k in range(1, 16):\n",
        "    model_original = KNeighborsClassifier(n_neighbors=k)\n",
        "\n",
        "    start_time = time.time()\n",
        "    model_original.fit(X_train, y_train)\n",
        "    y_pred_original = model_original.predict(X_test)\n",
        "    time_original = time.time() - start_time\n",
        "    accuracy_original = accuracy_score(y_test, y_pred_original)\n",
        "\n",
        "    model_scaled = KNeighborsClassifier(n_neighbors=k)\n",
        "\n",
        "    start_time = time.time()\n",
        "    model_scaled.fit(X_train_scaled, y_train)\n",
        "    y_pred_scaled = model_scaled.predict(X_test_scaled)\n",
        "    time_scaled = time.time() - start_time\n",
        "    accuracy_scaled = accuracy_score(y_test, y_pred_scaled)\n",
        "\n",
        "    results.append({\n",
        "        \"k\": k,\n",
        "        \"Accuracy_Original\": accuracy_original,\n",
        "        \"Time_Original\": time_original,\n",
        "        \"Accuracy_Scaled\": accuracy_scaled,\n",
        "        \"Time_Scaled\": time_scaled\n",
        "    })\n",
        "\n",
        "results = pd.DataFrame(results)\n",
        "\n",
        "# Plotting k vs Accuracy for original and scaled datasets\n",
        "plt.figure(figsize=(12, 6))\n",
        "\n",
        "plt.subplot(1, 2, 1)\n",
        "plt.plot(results['k'], results['Accuracy_Original'], label='Original Dataset', color='blue', marker='o')\n",
        "plt.plot(results['k'], results['Accuracy_Scaled'], label='Scaled Dataset', color='green', marker='o')\n",
        "plt.title('k vs Accuracy')\n",
        "plt.xlabel('k (Number of Neighbors)')\n",
        "plt.ylabel('Accuracy')\n",
        "plt.legend()\n",
        "\n",
        "# Plotting k vs Time Taken for original and scaled datasets\n",
        "plt.subplot(1, 2, 2)\n",
        "plt.plot(results['k'], results['Time_Original'], label='Original Dataset', color='blue', marker='o')\n",
        "plt.plot(results['k'], results['Time_Scaled'], label='Scaled Dataset', color='green', marker='o')\n",
        "plt.title('k vs Time Taken')\n",
        "plt.xlabel('k (Number of Neighbors)')\n",
        "plt.ylabel('Time Taken (seconds)')\n",
        "plt.legend()\n",
        "\n",
        "plt.tight_layout()\n",
        "plt.show()\n"
      ],
      "metadata": {
        "colab": {
          "base_uri": "https://localhost:8080/",
          "height": 642
        },
        "id": "Z6hXzTxrJGa4",
        "outputId": "7765b499-9fbb-4fbe-8816-6166a5ee3c4c"
      },
      "execution_count": 52,
      "outputs": [
        {
          "output_type": "stream",
          "name": "stdout",
          "text": [
            "Data shape: (150, 5)\n",
            "Target shape: (150,)\n"
          ]
        },
        {
          "output_type": "display_data",
          "data": {
            "text/plain": [
              "<Figure size 1200x600 with 2 Axes>"
            ],
            "image/png": "[encoded data removed]"
          },
          "metadata": {}
        }
      ]
    },
    {
      "cell_type": "markdown",
      "source": [
        "3. Analyze and Discuss:\n",
        "* Discuss how the choice of k affects the accuracy and computational cost.\n",
        "* Identify the optimal k based on your analysis."
      ],
      "metadata": {
        "id": "xiJUKPmOJxlC"
      }
    }
  ]
}